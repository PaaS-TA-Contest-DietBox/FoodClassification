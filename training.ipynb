{
 "cells": [
  {
   "cell_type": "markdown",
   "metadata": {},
   "source": [
    "# Import Library "
   ]
  },
  {
   "cell_type": "code",
   "execution_count": 1,
   "metadata": {},
   "outputs": [],
   "source": [
    "import os\n",
    "os.environ[\"CUDA_VISIBLE_DEVICES\"]=\"0, 1\"\n",
    "import random\n",
    "import numpy as np\n",
    "import pandas as pd\n",
    "import tensorflow as tf\n",
    "import tensorflow_addons as tfa\n",
    "import matplotlib.pyplot as plt\n",
    "%matplotlib inline\n",
    "\n",
    "from glob import glob\n",
    "from tqdm import tqdm\n",
    "from datetime import datetime\n",
    "\n",
    "from tensorflow.keras.preprocessing.image import ImageDataGenerator\n",
    "from tensorflow.keras.callbacks import ReduceLROnPlateau, ModelCheckpoint\n",
    "from sklearn.model_selection import train_test_split\n",
    "from tensorflow.keras import Model, Input\n",
    "from tensorflow.keras.layers import Dense, Dropout, GlobalAveragePooling2D, Conv2D, Flatten\n",
    "from tensorflow.keras.applications import MobileNetV2"
   ]
  },
  {
   "cell_type": "markdown",
   "metadata": {},
   "source": [
    "#### Set Seed "
   ]
  },
  {
   "cell_type": "code",
   "execution_count": 2,
   "metadata": {},
   "outputs": [],
   "source": [
    "SEED = 42\n",
    "\n",
    "def seed_everything(seed):\n",
    "    random.seed(seed)\n",
    "    os.environ['PYTHONHASHSEED'] = str(seed)\n",
    "    np.random.seed(seed)\n",
    "    tf.random.set_seed(seed)\n",
    "\n",
    "seed_everything(SEED)"
   ]
  },
  {
   "cell_type": "markdown",
   "metadata": {},
   "source": [
    "#### Config "
   ]
  },
  {
   "cell_type": "code",
   "execution_count": 3,
   "metadata": {},
   "outputs": [],
   "source": [
    "DATA_PATH = f'../Datasets/kfood/'\n",
    "CKPT_PATH = f'./checkpoints/metric_learning_model.h5'\n",
    "LOG_PATH = './logs/metric_model/' + datetime.now().strftime(\"%Y%n%d-%H%M%S\")\n",
    "\n",
    "size = 224\n",
    "batch_size = 512\n",
    "\n",
    "classes = 150\n",
    "\n",
    "learning_rate = 1e-2\n",
    "wd = 0.0005\n",
    "max_lr = 1e-2\n",
    "min_lr = 5e-5\n",
    "cycle_len = 20\n",
    "\n",
    "EPOCHS = 100"
   ]
  },
  {
   "cell_type": "markdown",
   "metadata": {},
   "source": [
    "# Load Data"
   ]
  },
  {
   "cell_type": "code",
   "execution_count": 4,
   "metadata": {},
   "outputs": [
    {
     "name": "stdout",
     "output_type": "stream",
     "text": [
      "Found 150513 images belonging to 150 classes.\n"
     ]
    }
   ],
   "source": [
    "# featurewise_center=True,\n",
    "# featurewise_std_normalization=True,\n",
    "# rotation_range=20,\n",
    "# width_shift_range=0.2,\n",
    "# height_shift_range=0.2,\n",
    "# horizontal_flip=True,\n",
    "# vertical_flip=True,\n",
    "datagen = ImageDataGenerator(\n",
    "    rescale=1./255.,\n",
    ")\n",
    "\n",
    "datagenerator = datagen.flow_from_directory(\n",
    "    DATA_PATH,\n",
    "    target_size=(size, size),\n",
    "    batch_size=batch_size,\n",
    "    class_mode='sparse',\n",
    "    shuffle=True, \n",
    ")"
   ]
  },
  {
   "cell_type": "markdown",
   "metadata": {},
   "source": [
    "# Load Model "
   ]
  },
  {
   "cell_type": "code",
   "execution_count": 5,
   "metadata": {},
   "outputs": [],
   "source": [
    "base_model = MobileNetV2(\n",
    "        input_shape=(size, size, 3),\n",
    "        include_top=False,\n",
    "        weights='imagenet',\n",
    "    )\n",
    "base_model.trainable = False\n",
    "\n",
    "def MetricLearning(base_model):\n",
    "    x = inputs = Input([size, size, 3])\n",
    "    x = base_model(x)\n",
    "    x = Conv2D(32, 3, padding='same', activation='relu')(x)\n",
    "    x = Flatten()(x)\n",
    "    x = Dense(512, activation='elu')(x)\n",
    "    x = Dropout(0.2)(x)\n",
    "    x = Dense(512, activation='elu')(x)\n",
    "    x = Dropout(0.2)(x)\n",
    "    output = Dense(256, activation=None)(x)\n",
    "    return Model(inputs=inputs, outputs=output)\n",
    "\n",
    "model = MetricLearning(base_model)"
   ]
  },
  {
   "cell_type": "code",
   "execution_count": 6,
   "metadata": {},
   "outputs": [
    {
     "name": "stdout",
     "output_type": "stream",
     "text": [
      "Model: \"functional_1\"\n",
      "_________________________________________________________________\n",
      "Layer (type)                 Output Shape              Param #   \n",
      "=================================================================\n",
      "input_2 (InputLayer)         [(None, 224, 224, 3)]     0         \n",
      "_________________________________________________________________\n",
      "mobilenetv2_1.00_224 (Functi (None, 7, 7, 1280)        2257984   \n",
      "_________________________________________________________________\n",
      "conv2d (Conv2D)              (None, 7, 7, 32)          368672    \n",
      "_________________________________________________________________\n",
      "flatten (Flatten)            (None, 1568)              0         \n",
      "_________________________________________________________________\n",
      "dense (Dense)                (None, 512)               803328    \n",
      "_________________________________________________________________\n",
      "dropout (Dropout)            (None, 512)               0         \n",
      "_________________________________________________________________\n",
      "dense_1 (Dense)              (None, 512)               262656    \n",
      "_________________________________________________________________\n",
      "dropout_1 (Dropout)          (None, 512)               0         \n",
      "_________________________________________________________________\n",
      "dense_2 (Dense)              (None, 256)               131328    \n",
      "=================================================================\n",
      "Total params: 3,823,968\n",
      "Trainable params: 1,565,984\n",
      "Non-trainable params: 2,257,984\n",
      "_________________________________________________________________\n"
     ]
    }
   ],
   "source": [
    "model.summary()"
   ]
  },
  {
   "cell_type": "markdown",
   "metadata": {},
   "source": [
    "# Compile"
   ]
  },
  {
   "cell_type": "code",
   "execution_count": 7,
   "metadata": {},
   "outputs": [],
   "source": [
    "optimizer = tf.keras.optimizers.SGD(learning_rate)\n",
    "\n",
    "model.compile(\n",
    "    optimizer=optimizer,\n",
    "    loss=tfa.losses.TripletSemiHardLoss(\n",
    "        distance_metric='angular'\n",
    "    )\n",
    ")"
   ]
  },
  {
   "cell_type": "code",
   "execution_count": 8,
   "metadata": {},
   "outputs": [],
   "source": [
    "ckpt = tf.keras.callbacks.ModelCheckpoint(\n",
    "    filepath=CKPT_PATH,\n",
    "    save_weights_only=False,\n",
    "    monitor='loss',\n",
    "    mode='min',\n",
    "    save_best_only=True,\n",
    "    verbose=1\n",
    ")\n",
    "\n",
    "def trainfle_fn(x):\n",
    "    return 1. / (2.**(x - 1))\n",
    "clr_f = tfa.optimizers.CyclicalLearningRate(\n",
    "    initial_learning_rate=(max_lr+min_lr)/2,\n",
    "    maximal_learning_rate=max_lr,\n",
    "    step_size=cycle_len,\n",
    "    scale_fn=trainfle_fn\n",
    ")\n",
    "lr_scheduler = tf.keras.callbacks.LearningRateScheduler(clr_f)\n",
    "\n",
    "early_stop = tf.keras.callbacks.EarlyStopping(\n",
    "    monitor='loss',\n",
    "    min_delta=0,\n",
    "    patience=30,\n",
    "    verbose=2,\n",
    "    mode='auto',\n",
    "    baseline=None,\n",
    "    restore_best_weights=True\n",
    ")\n",
    "\n",
    "tensorboard = tf.keras.callbacks.TensorBoard(\n",
    "    log_dir=LOG_PATH,\n",
    "    histogram_freq=1\n",
    ")\n",
    "\n",
    "callbacks = [ckpt, lr_scheduler, early_stop, tensorboard]"
   ]
  },
  {
   "cell_type": "markdown",
   "metadata": {},
   "source": [
    "# Training "
   ]
  },
  {
   "cell_type": "code",
   "execution_count": null,
   "metadata": {
    "scrolled": true
   },
   "outputs": [
    {
     "name": "stdout",
     "output_type": "stream",
     "text": [
      "Epoch 1/100\n",
      "  1/294 [..............................] - ETA: 0s - loss: 0.9990WARNING:tensorflow:From /home/sungjin/anaconda3/envs/Pasta/lib/python3.7/site-packages/tensorflow/python/ops/summary_ops_v2.py:1277: stop (from tensorflow.python.eager.profiler) is deprecated and will be removed after 2020-07-01.\n",
      "Instructions for updating:\n",
      "use `tf.profiler.experimental.stop` instead.\n",
      "  4/294 [..............................] - ETA: 5:47 - loss: 0.9990"
     ]
    },
    {
     "name": "stderr",
     "output_type": "stream",
     "text": [
      "/home/sungjin/anaconda3/envs/Pasta/lib/python3.7/site-packages/PIL/TiffImagePlugin.py:771: UserWarning: Possibly corrupt EXIF data.  Expecting to read 1498 bytes but only got 0. Skipping tag 37500\n",
      "  \"Possibly corrupt EXIF data.  \"\n",
      "/home/sungjin/anaconda3/envs/Pasta/lib/python3.7/site-packages/PIL/TiffImagePlugin.py:771: UserWarning: Possibly corrupt EXIF data.  Expecting to read 125 bytes but only got 120. Skipping tag 37510\n",
      "  \"Possibly corrupt EXIF data.  \"\n",
      "/home/sungjin/anaconda3/envs/Pasta/lib/python3.7/site-packages/PIL/TiffImagePlugin.py:771: UserWarning: Possibly corrupt EXIF data.  Expecting to read 8 bytes but only got 0. Skipping tag 41988\n",
      "  \"Possibly corrupt EXIF data.  \"\n"
     ]
    },
    {
     "name": "stdout",
     "output_type": "stream",
     "text": [
      "\b\b\b\b\b\b\b\b\b\b\b\b\b\b\b\b\b\b\b\b\b\b\b\b\b\b\b\b\b\b\b\b\b\b\b\b\b\b\b\b\b\b\b\b\b\b\b\b\b\b\b\b\b\b\b\b\b\b\b\b\b\b\b\b\b\b\b\r",
      "  5/294 [..............................] - ETA: 6:20 - loss: 0.9989"
     ]
    },
    {
     "name": "stderr",
     "output_type": "stream",
     "text": [
      "/home/sungjin/anaconda3/envs/Pasta/lib/python3.7/site-packages/PIL/Image.py:952: UserWarning: Palette images with Transparency expressed in bytes should be converted to RGBA images\n",
      "  \"Palette images with Transparency expressed in bytes should be \"\n"
     ]
    },
    {
     "name": "stdout",
     "output_type": "stream",
     "text": [
      " 24/294 [=>............................] - ETA: 8:35 - loss: 0.9989"
     ]
    },
    {
     "name": "stderr",
     "output_type": "stream",
     "text": [
      "/home/sungjin/anaconda3/envs/Pasta/lib/python3.7/site-packages/PIL/TiffImagePlugin.py:792: UserWarning: Corrupt EXIF data.  Expecting to read 12 bytes but only got 4. \n",
      "  warnings.warn(str(msg))\n"
     ]
    },
    {
     "name": "stdout",
     "output_type": "stream",
     "text": [
      " 69/294 [======>.......................] - ETA: 7:25 - loss: 0.9989"
     ]
    },
    {
     "name": "stderr",
     "output_type": "stream",
     "text": [
      "/home/sungjin/anaconda3/envs/Pasta/lib/python3.7/site-packages/PIL/TiffImagePlugin.py:771: UserWarning: Possibly corrupt EXIF data.  Expecting to read 1078 bytes but only got 0. Skipping tag 37500\n",
      "  \"Possibly corrupt EXIF data.  \"\n"
     ]
    },
    {
     "name": "stdout",
     "output_type": "stream",
     "text": [
      "158/294 [===============>..............] - ETA: 4:35 - loss: 0.9987"
     ]
    },
    {
     "name": "stderr",
     "output_type": "stream",
     "text": [
      "/home/sungjin/anaconda3/envs/Pasta/lib/python3.7/site-packages/PIL/TiffImagePlugin.py:771: UserWarning: Possibly corrupt EXIF data.  Expecting to read 8 bytes but only got 2. Skipping tag 41486\n",
      "  \"Possibly corrupt EXIF data.  \"\n",
      "/home/sungjin/anaconda3/envs/Pasta/lib/python3.7/site-packages/PIL/TiffImagePlugin.py:771: UserWarning: Possibly corrupt EXIF data.  Expecting to read 8 bytes but only got 0. Skipping tag 41487\n",
      "  \"Possibly corrupt EXIF data.  \"\n"
     ]
    },
    {
     "name": "stdout",
     "output_type": "stream",
     "text": [
      "175/294 [================>.............] - ETA: 4:02 - loss: 0.9987"
     ]
    },
    {
     "name": "stderr",
     "output_type": "stream",
     "text": [
      "/home/sungjin/anaconda3/envs/Pasta/lib/python3.7/site-packages/PIL/TiffImagePlugin.py:771: UserWarning: Possibly corrupt EXIF data.  Expecting to read 8 bytes but only got 2. Skipping tag 37386\n",
      "  \"Possibly corrupt EXIF data.  \"\n",
      "/home/sungjin/anaconda3/envs/Pasta/lib/python3.7/site-packages/PIL/TiffImagePlugin.py:771: UserWarning: Possibly corrupt EXIF data.  Expecting to read 8 bytes but only got 0. Skipping tag 37396\n",
      "  \"Possibly corrupt EXIF data.  \"\n"
     ]
    },
    {
     "name": "stdout",
     "output_type": "stream",
     "text": [
      "244/294 [=======================>......] - ETA: 1:42 - loss: 0.9986"
     ]
    },
    {
     "name": "stderr",
     "output_type": "stream",
     "text": [
      "/home/sungjin/anaconda3/envs/Pasta/lib/python3.7/site-packages/PIL/TiffImagePlugin.py:771: UserWarning: Possibly corrupt EXIF data.  Expecting to read 20 bytes but only got 6. Skipping tag 272\n",
      "  \"Possibly corrupt EXIF data.  \"\n"
     ]
    },
    {
     "name": "stdout",
     "output_type": "stream",
     "text": [
      "294/294 [==============================] - ETA: 0s - loss: 0.9985\n",
      "Epoch 00001: loss improved from inf to 0.99852, saving model to ./checkpoints/metric_learning_model.h5\n",
      "294/294 [==============================] - 606s 2s/step - loss: 0.9985\n",
      "Epoch 2/100\n",
      "294/294 [==============================] - ETA: 0s - loss: 0.9976\n",
      "Epoch 00002: loss improved from 0.99852 to 0.99760, saving model to ./checkpoints/metric_learning_model.h5\n",
      "294/294 [==============================] - 590s 2s/step - loss: 0.9976\n",
      "Epoch 3/100\n",
      "294/294 [==============================] - ETA: 0s - loss: 0.9969\n",
      "Epoch 00003: loss improved from 0.99760 to 0.99694, saving model to ./checkpoints/metric_learning_model.h5\n",
      "294/294 [==============================] - 587s 2s/step - loss: 0.9969\n",
      "Epoch 4/100\n",
      "294/294 [==============================] - ETA: 0s - loss: 0.9964\n",
      "Epoch 00004: loss improved from 0.99694 to 0.99639, saving model to ./checkpoints/metric_learning_model.h5\n",
      "294/294 [==============================] - 588s 2s/step - loss: 0.9964\n",
      "Epoch 5/100\n",
      "294/294 [==============================] - ETA: 0s - loss: 0.9959\n",
      "Epoch 00005: loss improved from 0.99639 to 0.99589, saving model to ./checkpoints/metric_learning_model.h5\n",
      "294/294 [==============================] - 588s 2s/step - loss: 0.9959\n",
      "Epoch 6/100\n",
      "294/294 [==============================] - ETA: 0s - loss: 0.9955\n",
      "Epoch 00006: loss improved from 0.99589 to 0.99548, saving model to ./checkpoints/metric_learning_model.h5\n",
      "294/294 [==============================] - 588s 2s/step - loss: 0.9955\n",
      "Epoch 7/100\n",
      "294/294 [==============================] - ETA: 0s - loss: 0.9951\n",
      "Epoch 00007: loss improved from 0.99548 to 0.99514, saving model to ./checkpoints/metric_learning_model.h5\n",
      "294/294 [==============================] - 588s 2s/step - loss: 0.9951\n",
      "Epoch 8/100\n",
      "294/294 [==============================] - ETA: 0s - loss: 0.9948\n",
      "Epoch 00008: loss improved from 0.99514 to 0.99482, saving model to ./checkpoints/metric_learning_model.h5\n",
      "294/294 [==============================] - 589s 2s/step - loss: 0.9948\n",
      "Epoch 9/100\n",
      "294/294 [==============================] - ETA: 0s - loss: 0.9945\n",
      "Epoch 00009: loss improved from 0.99482 to 0.99452, saving model to ./checkpoints/metric_learning_model.h5\n",
      "294/294 [==============================] - 588s 2s/step - loss: 0.9945\n",
      "Epoch 10/100\n",
      "294/294 [==============================] - ETA: 0s - loss: 0.9942\n",
      "Epoch 00010: loss improved from 0.99452 to 0.99420, saving model to ./checkpoints/metric_learning_model.h5\n",
      "294/294 [==============================] - 588s 2s/step - loss: 0.9942\n",
      "Epoch 11/100\n",
      "294/294 [==============================] - ETA: 0s - loss: 0.9940\n",
      "Epoch 00011: loss improved from 0.99420 to 0.99395, saving model to ./checkpoints/metric_learning_model.h5\n",
      "294/294 [==============================] - 587s 2s/step - loss: 0.9940\n",
      "Epoch 12/100\n",
      "294/294 [==============================] - ETA: 0s - loss: 0.9938\n",
      "Epoch 00012: loss improved from 0.99395 to 0.99377, saving model to ./checkpoints/metric_learning_model.h5\n",
      "294/294 [==============================] - 587s 2s/step - loss: 0.9938\n",
      "Epoch 13/100\n",
      "294/294 [==============================] - ETA: 0s - loss: 0.9935\n",
      "Epoch 00013: loss improved from 0.99377 to 0.99351, saving model to ./checkpoints/metric_learning_model.h5\n",
      "294/294 [==============================] - 587s 2s/step - loss: 0.9935\n",
      "Epoch 14/100\n",
      "294/294 [==============================] - ETA: 0s - loss: 0.9933\n",
      "Epoch 00014: loss improved from 0.99351 to 0.99333, saving model to ./checkpoints/metric_learning_model.h5\n",
      "294/294 [==============================] - 588s 2s/step - loss: 0.9933\n",
      "Epoch 15/100\n",
      "294/294 [==============================] - ETA: 0s - loss: 0.9932\n",
      "Epoch 00015: loss improved from 0.99333 to 0.99317, saving model to ./checkpoints/metric_learning_model.h5\n",
      "294/294 [==============================] - 587s 2s/step - loss: 0.9932\n",
      "Epoch 16/100\n",
      "294/294 [==============================] - ETA: 0s - loss: 0.9929\n",
      "Epoch 00016: loss improved from 0.99317 to 0.99294, saving model to ./checkpoints/metric_learning_model.h5\n",
      "294/294 [==============================] - 587s 2s/step - loss: 0.9929\n",
      "Epoch 17/100\n",
      "294/294 [==============================] - ETA: 0s - loss: 0.9927\n",
      "Epoch 00017: loss improved from 0.99294 to 0.99272, saving model to ./checkpoints/metric_learning_model.h5\n",
      "294/294 [==============================] - 587s 2s/step - loss: 0.9927\n",
      "Epoch 18/100\n",
      "294/294 [==============================] - ETA: 0s - loss: 0.9926\n",
      "Epoch 00018: loss improved from 0.99272 to 0.99255, saving model to ./checkpoints/metric_learning_model.h5\n",
      "294/294 [==============================] - 588s 2s/step - loss: 0.9926\n",
      "Epoch 19/100\n",
      "294/294 [==============================] - ETA: 0s - loss: 0.9924\n",
      "Epoch 00019: loss improved from 0.99255 to 0.99236, saving model to ./checkpoints/metric_learning_model.h5\n",
      "294/294 [==============================] - 588s 2s/step - loss: 0.9924\n",
      "Epoch 20/100\n",
      "294/294 [==============================] - ETA: 0s - loss: 0.9922\n",
      "Epoch 00020: loss improved from 0.99236 to 0.99220, saving model to ./checkpoints/metric_learning_model.h5\n",
      "294/294 [==============================] - 587s 2s/step - loss: 0.9922\n",
      "Epoch 21/100\n",
      "294/294 [==============================] - ETA: 0s - loss: 0.9920\n",
      "Epoch 00021: loss improved from 0.99220 to 0.99198, saving model to ./checkpoints/metric_learning_model.h5\n",
      "294/294 [==============================] - 587s 2s/step - loss: 0.9920\n",
      "Epoch 22/100\n",
      "294/294 [==============================] - ETA: 0s - loss: 0.9918\n",
      "Epoch 00022: loss improved from 0.99198 to 0.99180, saving model to ./checkpoints/metric_learning_model.h5\n",
      "294/294 [==============================] - 588s 2s/step - loss: 0.9918\n",
      "Epoch 23/100\n",
      "294/294 [==============================] - ETA: 0s - loss: 0.9917\n",
      "Epoch 00023: loss improved from 0.99180 to 0.99172, saving model to ./checkpoints/metric_learning_model.h5\n",
      "294/294 [==============================] - 588s 2s/step - loss: 0.9917\n",
      "Epoch 24/100\n",
      "294/294 [==============================] - ETA: 0s - loss: 0.9916\n",
      "Epoch 00024: loss improved from 0.99172 to 0.99156, saving model to ./checkpoints/metric_learning_model.h5\n",
      "294/294 [==============================] - 589s 2s/step - loss: 0.9916\n",
      "Epoch 25/100\n",
      "294/294 [==============================] - ETA: 0s - loss: 0.9914\n",
      "Epoch 00025: loss improved from 0.99156 to 0.99144, saving model to ./checkpoints/metric_learning_model.h5\n",
      "294/294 [==============================] - 589s 2s/step - loss: 0.9914\n",
      "Epoch 26/100\n",
      "294/294 [==============================] - ETA: 0s - loss: 0.9913\n",
      "Epoch 00026: loss improved from 0.99144 to 0.99126, saving model to ./checkpoints/metric_learning_model.h5\n",
      "294/294 [==============================] - 588s 2s/step - loss: 0.9913\n",
      "Epoch 27/100\n",
      "294/294 [==============================] - ETA: 0s - loss: 0.9911\n",
      "Epoch 00027: loss improved from 0.99126 to 0.99112, saving model to ./checkpoints/metric_learning_model.h5\n",
      "294/294 [==============================] - 590s 2s/step - loss: 0.9911\n",
      "Epoch 28/100\n",
      "294/294 [==============================] - ETA: 0s - loss: 0.9909\n",
      "Epoch 00028: loss improved from 0.99112 to 0.99095, saving model to ./checkpoints/metric_learning_model.h5\n",
      "294/294 [==============================] - 590s 2s/step - loss: 0.9909\n",
      "Epoch 29/100\n",
      "294/294 [==============================] - ETA: 0s - loss: 0.9909\n",
      "Epoch 00029: loss did not improve from 0.99095\n",
      "294/294 [==============================] - 590s 2s/step - loss: 0.9909\n",
      "Epoch 30/100\n",
      "294/294 [==============================] - ETA: 0s - loss: 0.9907\n",
      "Epoch 00030: loss improved from 0.99095 to 0.99075, saving model to ./checkpoints/metric_learning_model.h5\n",
      "294/294 [==============================] - 590s 2s/step - loss: 0.9907\n",
      "Epoch 31/100\n",
      "294/294 [==============================] - ETA: 0s - loss: 0.9907\n",
      "Epoch 00031: loss improved from 0.99075 to 0.99068, saving model to ./checkpoints/metric_learning_model.h5\n",
      "294/294 [==============================] - 590s 2s/step - loss: 0.9907\n",
      "Epoch 32/100\n",
      "294/294 [==============================] - ETA: 0s - loss: 0.9906\n",
      "Epoch 00032: loss improved from 0.99068 to 0.99059, saving model to ./checkpoints/metric_learning_model.h5\n",
      "294/294 [==============================] - 589s 2s/step - loss: 0.9906\n",
      "Epoch 33/100\n"
     ]
    },
    {
     "name": "stdout",
     "output_type": "stream",
     "text": [
      "294/294 [==============================] - ETA: 0s - loss: 0.9906\n",
      "Epoch 00033: loss improved from 0.99059 to 0.99058, saving model to ./checkpoints/metric_learning_model.h5\n",
      "294/294 [==============================] - 589s 2s/step - loss: 0.9906\n",
      "Epoch 34/100\n",
      "294/294 [==============================] - ETA: 0s - loss: 0.9904\n",
      "Epoch 00034: loss improved from 0.99058 to 0.99036, saving model to ./checkpoints/metric_learning_model.h5\n",
      "294/294 [==============================] - 590s 2s/step - loss: 0.9904\n",
      "Epoch 35/100\n",
      "294/294 [==============================] - ETA: 0s - loss: 0.9904\n",
      "Epoch 00035: loss did not improve from 0.99036\n",
      "294/294 [==============================] - 590s 2s/step - loss: 0.9904\n",
      "Epoch 36/100\n",
      "294/294 [==============================] - ETA: 0s - loss: 0.9903\n",
      "Epoch 00036: loss improved from 0.99036 to 0.99031, saving model to ./checkpoints/metric_learning_model.h5\n",
      "294/294 [==============================] - 590s 2s/step - loss: 0.9903\n",
      "Epoch 37/100\n",
      "294/294 [==============================] - ETA: 0s - loss: 0.9902\n",
      "Epoch 00037: loss improved from 0.99031 to 0.99018, saving model to ./checkpoints/metric_learning_model.h5\n",
      "294/294 [==============================] - 591s 2s/step - loss: 0.9902\n",
      "Epoch 38/100\n",
      "294/294 [==============================] - ETA: 0s - loss: 0.9901\n",
      "Epoch 00038: loss improved from 0.99018 to 0.99009, saving model to ./checkpoints/metric_learning_model.h5\n",
      "294/294 [==============================] - 590s 2s/step - loss: 0.9901\n",
      "Epoch 39/100\n",
      "294/294 [==============================] - ETA: 0s - loss: 0.9901\n",
      "Epoch 00039: loss did not improve from 0.99009\n",
      "294/294 [==============================] - 590s 2s/step - loss: 0.9901\n",
      "Epoch 40/100\n",
      "294/294 [==============================] - ETA: 0s - loss: 0.9901\n",
      "Epoch 00040: loss improved from 0.99009 to 0.99008, saving model to ./checkpoints/metric_learning_model.h5\n",
      "294/294 [==============================] - 591s 2s/step - loss: 0.9901\n",
      "Epoch 41/100\n",
      "294/294 [==============================] - ETA: 0s - loss: 0.9900\n",
      "Epoch 00041: loss improved from 0.99008 to 0.98996, saving model to ./checkpoints/metric_learning_model.h5\n",
      "294/294 [==============================] - 590s 2s/step - loss: 0.9900\n",
      "Epoch 42/100\n",
      "294/294 [==============================] - ETA: 0s - loss: 0.9900\n",
      "Epoch 00042: loss did not improve from 0.98996\n",
      "294/294 [==============================] - 590s 2s/step - loss: 0.9900\n",
      "Epoch 43/100\n",
      "294/294 [==============================] - ETA: 0s - loss: 0.9899\n",
      "Epoch 00043: loss improved from 0.98996 to 0.98990, saving model to ./checkpoints/metric_learning_model.h5\n",
      "294/294 [==============================] - 591s 2s/step - loss: 0.9899\n",
      "Epoch 44/100\n",
      "294/294 [==============================] - ETA: 0s - loss: 0.9898\n",
      "Epoch 00044: loss improved from 0.98990 to 0.98981, saving model to ./checkpoints/metric_learning_model.h5\n",
      "294/294 [==============================] - 591s 2s/step - loss: 0.9898\n",
      "Epoch 45/100\n",
      "294/294 [==============================] - ETA: 0s - loss: 0.9898\n",
      "Epoch 00045: loss improved from 0.98981 to 0.98980, saving model to ./checkpoints/metric_learning_model.h5\n",
      "294/294 [==============================] - 591s 2s/step - loss: 0.9898\n",
      "Epoch 46/100\n",
      "294/294 [==============================] - ETA: 0s - loss: 0.9897\n",
      "Epoch 00046: loss improved from 0.98980 to 0.98966, saving model to ./checkpoints/metric_learning_model.h5\n",
      "294/294 [==============================] - 591s 2s/step - loss: 0.9897\n",
      "Epoch 47/100\n",
      "294/294 [==============================] - ETA: 0s - loss: 0.9896\n",
      "Epoch 00047: loss improved from 0.98966 to 0.98963, saving model to ./checkpoints/metric_learning_model.h5\n",
      "294/294 [==============================] - 592s 2s/step - loss: 0.9896\n",
      "Epoch 48/100\n",
      "294/294 [==============================] - ETA: 0s - loss: 0.9896\n",
      "Epoch 00048: loss improved from 0.98963 to 0.98962, saving model to ./checkpoints/metric_learning_model.h5\n",
      "294/294 [==============================] - 591s 2s/step - loss: 0.9896\n",
      "Epoch 49/100\n",
      "210/294 [====================>.........] - ETA: 2:48 - loss: 0.9895"
     ]
    }
   ],
   "source": [
    "history = model.fit(\n",
    "    datagenerator,\n",
    "    epochs=EPOCHS,\n",
    "    callbacks=callbacks\n",
    ")"
   ]
  },
  {
   "cell_type": "code",
   "execution_count": null,
   "metadata": {},
   "outputs": [],
   "source": []
  },
  {
   "cell_type": "code",
   "execution_count": null,
   "metadata": {},
   "outputs": [],
   "source": []
  },
  {
   "cell_type": "code",
   "execution_count": null,
   "metadata": {},
   "outputs": [],
   "source": []
  },
  {
   "cell_type": "code",
   "execution_count": null,
   "metadata": {},
   "outputs": [],
   "source": []
  },
  {
   "cell_type": "code",
   "execution_count": null,
   "metadata": {},
   "outputs": [],
   "source": []
  }
 ],
 "metadata": {
  "kernelspec": {
   "display_name": "Pasta",
   "language": "python",
   "name": "pasta"
  },
  "language_info": {
   "codemirror_mode": {
    "name": "ipython",
    "version": 3
   },
   "file_extension": ".py",
   "mimetype": "text/x-python",
   "name": "python",
   "nbconvert_exporter": "python",
   "pygments_lexer": "ipython3",
   "version": "3.7.9"
  }
 },
 "nbformat": 4,
 "nbformat_minor": 4
}
